{
 "cells": [
  {
   "cell_type": "markdown",
   "metadata": {
    "collapsed": true,
    "pycharm": {
     "is_executing": false,
     "name": "#%% md\n"
    }
   },
   "source": [
    "# Test Search Functionality \n"
   ]
  },
  {
   "cell_type": "code",
   "execution_count": 5,
   "outputs": [],
   "source": [
    "from tweetparse.search import Search\n",
    "from pprint import pprint\n",
    "import datetime"
   ],
   "metadata": {
    "collapsed": false,
    "pycharm": {
     "name": "#%%\n",
     "is_executing": false
    }
   }
  },
  {
   "cell_type": "markdown",
   "source": [
    "## Search by Keyword"
   ],
   "metadata": {
    "collapsed": false,
    "pycharm": {
     "name": "#%% md\n",
     "is_executing": false
    }
   }
  },
  {
   "cell_type": "code",
   "execution_count": 6,
   "outputs": [
    {
     "name": "stdout",
     "text": [
      "{'debug': False,\n 'favorite': 0,\n 'hashtags': [],\n 'id': 1187877392464990208,\n 'name': 'project name bot',\n 'permalink_path': 'https://twitter.com/projectnamebot/status/1187877392464990208',\n 'pinned': False,\n 'reply': 0,\n 'retweet': 0,\n 'screen_name': 'projectnamebot',\n 'text': 'ISO-compliant covfefe big stapler',\n 'time': datetime.datetime(2019, 10, 25, 23, 43, 34),\n 'urls': [],\n 'user_id': 800852553827237889}\n"
     ],
     "output_type": "stream"
    }
   ],
   "source": [
    "s = Search()\n",
    "s.search('covfefe')\n",
    "max_position, results = s.execute()\n",
    "pprint(vars(results[0]))"
   ],
   "metadata": {
    "collapsed": false,
    "pycharm": {
     "name": "#%% \n",
     "is_executing": false
    }
   }
  },
  {
   "cell_type": "markdown",
   "source": [
    "## Search by screen_name"
   ],
   "metadata": {
    "collapsed": false,
    "pycharm": {
     "name": "#%% md\n"
    }
   }
  },
  {
   "cell_type": "code",
   "execution_count": 7,
   "outputs": [
    {
     "name": "stdout",
     "text": [
      "{'debug': False,\n 'favorite': 2219,\n 'hashtags': [],\n 'id': 1187876694859882503,\n 'name': 'Donald J. Trump',\n 'permalink_path': 'https://twitter.com/realDonaldTrump/status/1187876694859882503',\n 'pinned': False,\n 'reply': 482,\n 'retweet': 675,\n 'screen_name': 'realDonaldTrump',\n 'text': 'Great '\n         'Book!https://twitter.com/jessebwatters/status/1187795599241949184\\xa0'\n         '…',\n 'time': datetime.datetime(2019, 10, 25, 23, 40, 48),\n 'urls': ['https://twitter.com/jessebwatters/status/1187795599241949184'],\n 'user_id': 25073877}\n"
     ],
     "output_type": "stream"
    }
   ],
   "source": [
    "s = Search()\n",
    "s.screen_name('realDonaldTrump')\n",
    "max_position, results = s.execute()\n",
    "pprint(vars(results[0]))"
   ],
   "metadata": {
    "collapsed": false,
    "pycharm": {
     "name": "#%%\n",
     "is_executing": false
    }
   }
  },
  {
   "cell_type": "markdown",
   "source": [
    "## Chaining search parameters"
   ],
   "metadata": {
    "collapsed": false,
    "pycharm": {
     "name": "#%% md\n"
    }
   }
  },
  {
   "cell_type": "code",
   "execution_count": 8,
   "outputs": [
    {
     "name": "stdout",
     "text": [
      " from:realDonaldTrump filter:verified until:2019-10-21 since:2019-10-20\n",
      "{'debug': False,\n 'favorite': 81669,\n 'hashtags': [],\n 'id': 1186049749989892105,\n 'name': 'Donald J. Trump',\n 'permalink_path': 'https://twitter.com/realDonaldTrump/status/1186049749989892105',\n 'pinned': False,\n 'reply': 26033,\n 'retweet': 20989,\n 'screen_name': 'realDonaldTrump',\n 'text': 'So interesting that, when I announced Trump National Doral in Miami '\n         'would be used for the hosting of the G-7, and then rescinded due to '\n         'Do Nothing Democrat/Fake News Anger, very few in Media mentioned '\n         'that NO PROFITS would be taken, or would be given FREE, if legally '\n         'permissible!',\n 'time': datetime.datetime(2019, 10, 20, 22, 41, 10),\n 'urls': [],\n 'user_id': 25073877}\n"
     ],
     "output_type": "stream"
    }
   ],
   "source": [
    "s = Search()\n",
    "s.screen_name('realDonaldTrump')\n",
    "s.verified()\n",
    "s.until(datetime.date(2019, 10, 21))\n",
    "s.since(datetime.date(2019, 10, 20))\n",
    "print(s.query)\n",
    "max_position, results = s.execute()\n",
    "pprint(vars(results[0]))"
   ],
   "metadata": {
    "collapsed": false,
    "pycharm": {
     "name": "#%%\n",
     "is_executing": false
    }
   }
  },
  {
   "cell_type": "code",
   "execution_count": null,
   "outputs": [],
   "source": [
    "\n"
   ],
   "metadata": {
    "collapsed": false,
    "pycharm": {
     "name": "#%%\n"
    }
   }
  }
 ],
 "metadata": {
  "kernelspec": {
   "name": "python3",
   "language": "python",
   "display_name": "Python 3"
  },
  "language_info": {
   "codemirror_mode": {
    "name": "ipython",
    "version": 2
   },
   "file_extension": ".py",
   "mimetype": "text/x-python",
   "name": "python",
   "nbconvert_exporter": "python",
   "pygments_lexer": "ipython2",
   "version": "2.7.6"
  },
  "pycharm": {
   "stem_cell": {
    "cell_type": "raw",
    "source": [],
    "metadata": {
     "collapsed": false
    }
   }
  }
 },
 "nbformat": 4,
 "nbformat_minor": 0
}