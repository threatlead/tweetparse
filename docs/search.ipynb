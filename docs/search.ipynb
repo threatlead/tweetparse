{
 "cells": [
  {
   "cell_type": "markdown",
   "metadata": {
    "collapsed": true,
    "pycharm": {
     "is_executing": false,
     "name": "#%% md\n"
    }
   },
   "source": [
    "# Test Search Functionality \n"
   ]
  },
  {
   "cell_type": "code",
   "execution_count": 1,
   "metadata": {
    "pycharm": {
     "is_executing": false,
     "name": "#%%\n"
    }
   },
   "outputs": [],
   "source": [
    "from tweetparse.search import Search\n",
    "from pprint import pprint\n",
    "import datetime"
   ]
  },
  {
   "cell_type": "markdown",
   "metadata": {
    "pycharm": {
     "is_executing": false,
     "name": "#%% md\n"
    }
   },
   "source": [
    "## Search by Keyword"
   ]
  },
  {
   "cell_type": "code",
   "execution_count": 2,
   "metadata": {
    "pycharm": {
     "is_executing": false,
     "name": "#%% \n"
    }
   },
   "outputs": [
    {
     "name": "stdout",
     "text": [
      "{'debug': False,\n",
      " 'favorite': 0,\n",
      " 'hashtags': [],\n",
      " 'id': 1211784442114539520,\n",
      " 'name': 'Trucker 🇺🇸',\n",
      " 'permalink_path': 'https://twitter.com/Flyovercitizen/status/1211784442114539520',\n",
      " 'pinned': False,\n",
      " 'reply': 0,\n",
      " 'retweet': 0,\n",
      " 'screen_name': 'Flyovercitizen',\n",
      " 'text': 'The FBI is very similar to the East German Stasi without the '\n",
      "         'executions',\n",
      " 'time': datetime.datetime(2019, 12, 30, 23, 1, 39, tzinfo=datetime.timezone.utc),\n",
      " 'urls': [],\n",
      " 'user_id': 3101730078}\n"
     ],
     "output_type": "stream"
    }
   ],
   "source": [
    "s = Search()\n",
    "s.search('covfefe')\n",
    "max_position, results = s.execute()\n",
    "pprint(vars(results[0]))"
   ]
  },
  {
   "cell_type": "markdown",
   "metadata": {
    "pycharm": {
     "name": "#%% md\n"
    }
   },
   "source": [
    "## Search by screen_name"
   ]
  },
  {
   "cell_type": "code",
   "execution_count": 3,
   "metadata": {
    "pycharm": {
     "is_executing": false,
     "name": "#%%\n"
    }
   },
   "outputs": [
    {
     "name": "stdout",
     "text": [
      "{'debug': False,\n",
      " 'favorite': 16300,\n",
      " 'hashtags': [],\n",
      " 'id': 1211774730258264066,\n",
      " 'name': 'Donald J. Trump',\n",
      " 'permalink_path': 'https://twitter.com/realDonaldTrump/status/1211774730258264066',\n",
      " 'pinned': False,\n",
      " 'reply': 3902,\n",
      " 'retweet': 4772,\n",
      " 'screen_name': 'realDonaldTrump',\n",
      " 'text': 'He is Fake News, will always be Fredo to us. I should release some '\n",
      "         'of his dishonest interviews? Coupled with bad ratings, he’d be '\n",
      "         'out!https://twitter.com/breitbartnews/status/1211767146637930500\\xa0'\n",
      "         '…',\n",
      " 'time': datetime.datetime(2019, 12, 30, 22, 23, 4, tzinfo=datetime.timezone.utc),\n",
      " 'urls': ['https://twitter.com/breitbartnews/status/1211767146637930500'],\n",
      " 'user_id': 25073877}\n"
     ],
     "output_type": "stream"
    }
   ],
   "source": [
    "s = Search()\n",
    "s.screen_name('realDonaldTrump')\n",
    "max_position, results = s.execute()\n",
    "pprint(vars(results[0]))"
   ]
  },
  {
   "cell_type": "markdown",
   "metadata": {
    "pycharm": {
     "name": "#%% md\n"
    }
   },
   "source": [
    "## Chaining search parameters"
   ]
  },
  {
   "cell_type": "code",
   "execution_count": 4,
   "metadata": {
    "pycharm": {
     "is_executing": false,
     "name": "#%%\n"
    }
   },
   "outputs": [
    {
     "name": "stdout",
     "text": [
      "{'debug': False,\n",
      " 'favorite': 80280,\n",
      " 'hashtags': [],\n",
      " 'id': 1186049749989892105,\n",
      " 'name': 'Donald J. Trump',\n",
      " 'permalink_path': 'https://twitter.com/realDonaldTrump/status/1186049749989892105',\n",
      " 'pinned': False,\n",
      " 'reply': 25674,\n",
      " 'retweet': 20313,\n",
      " 'screen_name': 'realDonaldTrump',\n",
      " 'text': 'So interesting that, when I announced Trump National Doral in Miami '\n",
      "         'would be used for the hosting of the G-7, and then rescinded due to '\n",
      "         'Do Nothing Democrat/Fake News Anger, very few in Media mentioned '\n",
      "         'that NO PROFITS would be taken, or would be given FREE, if legally '\n",
      "         'permissible!',\n",
      " 'time': datetime.datetime(2019, 10, 20, 22, 41, 10, tzinfo=datetime.timezone.utc),\n",
      " 'urls': [],\n",
      " 'user_id': 25073877}\n"
     ],
     "output_type": "stream"
    }
   ],
   "source": [
    "s = Search()\n",
    "s.screen_name('realDonaldTrump')\n",
    "s.verified()\n",
    "s.until(datetime.date(2019, 10, 21))\n",
    "s.since(datetime.date(2019, 10, 20))\n",
    "max_position, results = s.execute()\n",
    "pprint(vars(results[0]))"
   ]
  }
 ],
 "metadata": {
  "kernelspec": {
   "display_name": "Python 3",
   "language": "python",
   "name": "python3"
  },
  "language_info": {
   "codemirror_mode": {
    "name": "ipython",
    "version": 3
   },
   "file_extension": ".py",
   "mimetype": "text/x-python",
   "name": "python",
   "nbconvert_exporter": "python",
   "pygments_lexer": "ipython3",
   "version": "3.7.5rc1"
  },
  "pycharm": {
   "stem_cell": {
    "cell_type": "raw",
    "source": [],
    "metadata": {
     "collapsed": false
    }
   }
  }
 },
 "nbformat": 4,
 "nbformat_minor": 1
}