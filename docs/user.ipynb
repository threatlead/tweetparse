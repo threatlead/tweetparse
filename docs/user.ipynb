{
 "cells": [
  {
   "cell_type": "markdown",
   "metadata": {
    "collapsed": true,
    "pycharm": {
     "name": "#%% md\n"
    }
   },
   "source": [
    "# Twitter User "
   ]
  },
  {
   "cell_type": "code",
   "execution_count": 1,
   "metadata": {
    "pycharm": {
     "is_executing": false,
     "name": "#%%\n"
    }
   },
   "outputs": [],
   "source": [
    "from tweetparse.user import User\n",
    "from pprint import pprint"
   ]
  },
  {
   "cell_type": "markdown",
   "metadata": {
    "pycharm": {
     "name": "#%% md\n"
    }
   },
   "source": [
    "## Generate User object and then get its profile"
   ]
  },
  {
   "cell_type": "code",
   "execution_count": 2,
   "metadata": {
    "pycharm": {
     "is_executing": false,
     "name": "#%%\n"
    }
   },
   "outputs": [
    {
     "name": "stdout",
     "output_type": "stream",
     "text": [
      "{'created_at': '2009-03-18T13:46:38+00:00',\n",
      " 'description': '45th President of the United States of America🇺🇸',\n",
      " 'favourites_count': 7,\n",
      " 'followers_count': 67011124,\n",
      " 'friends_count': 47,\n",
      " 'id': 25073877,\n",
      " 'location': 'Washington, DC',\n",
      " 'name': 'Donald J. Trump',\n",
      " 'profile_image_url': 'http://pbs.twimg.com/profile_images/874276197357596672/kUuht00m_normal.jpg',\n",
      " 'screen_name': 'realDonaldTrump',\n",
      " 'statuses_count': 46456,\n",
      " 'verified': True}\n"
     ]
    }
   ],
   "source": [
    "user = User(screen_name='realDonaldTrump', debug=False)\n",
    "user.get_profile()\n",
    "pprint(user.as_dict)"
   ]
  },
  {
   "cell_type": "markdown",
   "metadata": {
    "pycharm": {
     "name": "#%% md\n"
    }
   },
   "source": [
    "## Get list of followings, which are user objects..."
   ]
  },
  {
   "cell_type": "code",
   "execution_count": 3,
   "metadata": {
    "pycharm": {
     "is_executing": false,
     "name": "#%%\n"
    }
   },
   "outputs": [
    {
     "name": "stdout",
     "output_type": "stream",
     "text": [
      "['realDonaldTrump',\n",
      " 'Jim_Jordan',\n",
      " 'MariaBartiromo',\n",
      " 'VP',\n",
      " 'GOPChairwoman',\n",
      " 'parscale',\n",
      " 'PressSec',\n",
      " 'TuckerCarlson',\n",
      " 'JesseBWatters',\n",
      " 'WhiteHouse',\n",
      " 'Scavino45',\n",
      " 'KellyannePolls',\n",
      " 'Reince',\n",
      " 'RealRomaDowney',\n",
      " 'Trump',\n",
      " 'TrumpGolf',\n",
      " 'TiffanyATrump',\n",
      " 'IngrahamAngle',\n",
      " 'Mike_Pence',\n",
      " 'TeamTrump',\n",
      " 'DRUDGE_REPORT']\n"
     ]
    }
   ],
   "source": [
    "user = User(screen_name='realDonaldTrump', debug=False)\n",
    "following = user.get_following()\n",
    "pprint([f.screen_name for f in following])"
   ]
  },
  {
   "cell_type": "markdown",
   "metadata": {
    "pycharm": {
     "is_executing": false,
     "name": "#%% md\n"
    }
   },
   "source": [
    "## Get list of followers"
   ]
  },
  {
   "cell_type": "code",
   "execution_count": 4,
   "metadata": {
    "pycharm": {
     "is_executing": false,
     "name": "#%%\n"
    }
   },
   "outputs": [
    {
     "name": "stdout",
     "output_type": "stream",
     "text": [
      "['realDonaldTrump',\n",
      " 'MuhamaadSyed',\n",
      " 'MohammadRezagm3',\n",
      " 'MaikanoIbrahim5',\n",
      " 'can_frht',\n",
      " 'RodyRodyrodrigo',\n",
      " 'HillaryBloombe1',\n",
      " 'HageKaze',\n",
      " 'BRIAN64739796',\n",
      " 'JonildoJordan',\n",
      " 'ZoeyEllison3',\n",
      " 'Da5ian',\n",
      " 'MahmoudGhanm8',\n",
      " 'Nordendahl',\n",
      " 'httpJ4CK',\n",
      " 'Abdael81265026',\n",
      " 'FoodyWolfie',\n",
      " 'cielogris',\n",
      " 'AngelinaNedeva',\n",
      " 'ayskubraa',\n",
      " 'FitsumAyalew1']\n"
     ]
    }
   ],
   "source": [
    "user = User(screen_name='realDonaldTrump')\n",
    "followers = user.get_followers()\n",
    "pprint([f.screen_name for f in followers])"
   ]
  },
  {
   "cell_type": "markdown",
   "metadata": {
    "pycharm": {
     "name": "#%% md\n"
    }
   },
   "source": [
    "## Get tweets"
   ]
  },
  {
   "cell_type": "code",
   "execution_count": 5,
   "metadata": {
    "pycharm": {
     "is_executing": false,
     "name": "#%%\n"
    }
   },
   "outputs": [
    {
     "name": "stdout",
     "output_type": "stream",
     "text": [
      "{'debug': False,\n",
      " 'favorite': 25578,\n",
      " 'hashtags': [('screen_name',\n",
      "               '@realDonaldTrump',\n",
      "               'https://twitter.com/realDonaldTrump'),\n",
      "              ('screen_name', '@NCAA', 'https://twitter.com/NCAA')],\n",
      " 'id': 1198709716278530048,\n",
      " 'name': 'The White House',\n",
      " 'permalink_path': 'https://twitter.com/WhiteHouse/status/1198709716278530048',\n",
      " 'pinned': False,\n",
      " 'reply': 1131,\n",
      " 'retweet': 6207,\n",
      " 'screen_name': 'WhiteHouse',\n",
      " 'text': 'President\\n'\n",
      "         '@\\n'\n",
      "         'realDonaldTrump welcomed outstanding student athletes and coaches '\n",
      "         'from all over the Nation to the White House for\\n'\n",
      "         '@\\n'\n",
      "         'NCAA Collegiate National Champions Day! pic.twitter.com/347AnR0KMk',\n",
      " 'time': datetime.datetime(2019, 11, 24, 21, 7, 21, tzinfo=datetime.timezone.utc),\n",
      " 'urls': ['https://t.co/347AnR0KMk'],\n",
      " 'user_id': 822215673812119553}\n"
     ]
    }
   ],
   "source": [
    "user = User(screen_name='realDonaldTrump')\n",
    "tweets = user.get_tweets()\n",
    "pprint(vars(tweets[6]))"
   ]
  }
 ],
 "metadata": {
  "kernelspec": {
   "display_name": "Python 3",
   "language": "python",
   "name": "python3"
  },
  "language_info": {
   "codemirror_mode": {
    "name": "ipython",
    "version": 3
   },
   "file_extension": ".py",
   "mimetype": "text/x-python",
   "name": "python",
   "nbconvert_exporter": "python",
   "pygments_lexer": "ipython3",
   "version": "3.7.5rc1"
  },
  "pycharm": {
   "stem_cell": {
    "cell_type": "raw",
    "metadata": {
     "collapsed": false
    },
    "source": []
   }
  }
 },
 "nbformat": 4,
 "nbformat_minor": 1
}
