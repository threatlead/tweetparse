{
 "cells": [
  {
   "cell_type": "markdown",
   "metadata": {
    "collapsed": true,
    "pycharm": {
     "name": "#%% md\n"
    }
   },
   "source": [
    "# Twitter User "
   ]
  },
  {
   "cell_type": "code",
   "execution_count": 1,
   "outputs": [],
   "source": [
    "from tweetparse.user import User\n",
    "from pprint import pprint"
   ],
   "metadata": {
    "collapsed": false,
    "pycharm": {
     "name": "#%%\n",
     "is_executing": false
    }
   }
  },
  {
   "cell_type": "markdown",
   "source": [
    "## Generate User object and then get its profile"
   ],
   "metadata": {
    "collapsed": false,
    "pycharm": {
     "name": "#%% md\n"
    }
   }
  },
  {
   "cell_type": "code",
   "execution_count": 2,
   "outputs": [
    {
     "name": "stdout",
     "text": [
      "{'created_at': datetime.datetime(2009, 3, 18, 13, 46, 38, tzinfo=datetime.timezone.utc),\n 'debug': False,\n 'description': '45th President of the United States of America🇺🇸',\n 'favourites_count': 6,\n 'followers_count': 66156456,\n 'friends_count': 47,\n 'id': 25073877,\n 'location': 'Washington, DC',\n 'max_position': None,\n 'min_position': None,\n 'name': 'Donald J. Trump',\n 'profile_image_url': 'http://pbs.twimg.com/profile_images/874276197357596672/kUuht00m_normal.jpg',\n 'raw': False,\n 'screen_name': 'realDonaldTrump',\n 'statuses_count': 45522,\n 'verified': True}\n"
     ],
     "output_type": "stream"
    }
   ],
   "source": [
    "user = User(screen_name='realDonaldTrump', debug=False)\n",
    "user.get_profile()\n",
    "pprint(vars(user))"
   ],
   "metadata": {
    "collapsed": false,
    "pycharm": {
     "name": "#%%\n",
     "is_executing": false
    }
   }
  },
  {
   "cell_type": "markdown",
   "source": [
    "## Get list of followings, which are user objects..."
   ],
   "metadata": {
    "collapsed": false,
    "pycharm": {
     "name": "#%% md\n"
    }
   }
  },
  {
   "cell_type": "code",
   "execution_count": 3,
   "outputs": [
    {
     "name": "stdout",
     "text": [
      "['realDonaldTrump',\n 'Jim_Jordan',\n 'MariaBartiromo',\n 'VP',\n 'GOPChairwoman',\n 'parscale',\n 'PressSec',\n 'TuckerCarlson',\n 'JesseBWatters',\n 'WhiteHouse',\n 'Scavino45',\n 'KellyannePolls',\n 'Reince',\n 'RealRomaDowney',\n 'Trump',\n 'TrumpGolf',\n 'TiffanyATrump',\n 'IngrahamAngle',\n 'mike_pence',\n 'TeamTrump',\n 'DRUDGE_REPORT']\n"
     ],
     "output_type": "stream"
    }
   ],
   "source": [
    "user = User(screen_name='realDonaldTrump', debug=False)\n",
    "following = user.get_following()\n",
    "pprint([f.screen_name for f in following])"
   ],
   "metadata": {
    "collapsed": false,
    "pycharm": {
     "name": "#%%\n",
     "is_executing": false
    }
   }
  },
  {
   "cell_type": "markdown",
   "source": [
    "## Get list of followers"
   ],
   "metadata": {
    "collapsed": false,
    "pycharm": {
     "name": "#%% md\n",
     "is_executing": false
    }
   }
  },
  {
   "cell_type": "code",
   "execution_count": 4,
   "outputs": [
    {
     "name": "stdout",
     "text": [
      "['realDonaldTrump',\n 'PokymonTV',\n 'dohyahdoh',\n 'qnqtaHw7G0fTIob',\n 'tigerti41725599',\n 'TristanWalls97',\n 'Jamilaa43491864',\n 'Ebrahimmagdi6',\n 'Adeola90185271',\n 'SlyDavis0414',\n 'LetmeBE40884308',\n 'amardeep_undale',\n 'sarahAZ23444023',\n 'evanpatterson44',\n 'Poppy59868822',\n 'Kagancbi',\n 'aihaibaraq',\n 'Krishna19872',\n 'Pat90056233',\n 'Giovann52778899',\n 'PedrocchPh']\n"
     ],
     "output_type": "stream"
    }
   ],
   "source": [
    "user = User(screen_name='realDonaldTrump')\n",
    "followers = user.get_followers()\n",
    "pprint([f.screen_name for f in followers])"
   ],
   "metadata": {
    "collapsed": false,
    "pycharm": {
     "name": "#%%\n",
     "is_executing": false
    }
   }
  },
  {
   "cell_type": "markdown",
   "source": [
    "## Get tweets"
   ],
   "metadata": {
    "collapsed": false,
    "pycharm": {
     "name": "#%% md\n"
    }
   }
  },
  {
   "cell_type": "code",
   "execution_count": 5,
   "outputs": [
    {
     "name": "stdout",
     "text": [
      "{'debug': False,\n 'favorite': 14516,\n 'hashtags': [],\n 'id': 1187874122279337987,\n 'name': 'Donald J. Trump',\n 'permalink_path': 'https://twitter.com/realDonaldTrump/status/1187874122279337987',\n 'pinned': False,\n 'reply': 1956,\n 'retweet': 4558,\n 'screen_name': 'realDonaldTrump',\n 'text': 'Democrats just announced that they no longer want the Whistleblower '\n         'to testify. But everything was about the Whistleblower (they no '\n         'longer want the second Whistleblower either), which they don’t want '\n         'because the account of my call bore NO RELATIONSHIP to the call '\n         'itself.....',\n 'time': datetime.datetime(2019, 10, 25, 23, 30, 35),\n 'urls': [],\n 'user_id': 25073877}\n"
     ],
     "output_type": "stream"
    }
   ],
   "source": [
    "user = User(screen_name='realDonaldTrump')\n",
    "tweets = user.get_tweets()\n",
    "pprint(vars(tweets[6]))"
   ],
   "metadata": {
    "collapsed": false,
    "pycharm": {
     "name": "#%%\n",
     "is_executing": false
    }
   }
  },
  {
   "cell_type": "code",
   "execution_count": 16,
   "outputs": [],
   "source": [
    "\n"
   ],
   "metadata": {
    "collapsed": false,
    "pycharm": {
     "name": "#%%\n",
     "is_executing": false
    }
   }
  }
 ],
 "metadata": {
  "kernelspec": {
   "name": "python3",
   "language": "python",
   "display_name": "Python 3"
  },
  "language_info": {
   "codemirror_mode": {
    "name": "ipython",
    "version": 2
   },
   "file_extension": ".py",
   "mimetype": "text/x-python",
   "name": "python",
   "nbconvert_exporter": "python",
   "pygments_lexer": "ipython2",
   "version": "2.7.6"
  },
  "pycharm": {
   "stem_cell": {
    "cell_type": "raw",
    "source": [],
    "metadata": {
     "collapsed": false
    }
   }
  }
 },
 "nbformat": 4,
 "nbformat_minor": 0
}