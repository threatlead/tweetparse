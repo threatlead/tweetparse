{
 "cells": [
  {
   "cell_type": "markdown",
   "metadata": {
    "collapsed": true,
    "pycharm": {
     "name": "#%% md\n"
    }
   },
   "source": [
    "# Twitter User "
   ]
  },
  {
   "cell_type": "code",
   "execution_count": 1,
   "metadata": {
    "pycharm": {
     "is_executing": false,
     "name": "#%%\n"
    }
   },
   "outputs": [],
   "source": [
    "from tweetparse.user import User\n",
    "from pprint import pprint"
   ]
  },
  {
   "cell_type": "markdown",
   "metadata": {
    "pycharm": {
     "name": "#%% md\n"
    }
   },
   "source": [
    "## Generate User object and then get its profile"
   ]
  },
  {
   "cell_type": "code",
   "execution_count": 2,
   "metadata": {
    "pycharm": {
     "is_executing": false,
     "name": "#%%\n"
    }
   },
   "outputs": [
    {
     "name": "stdout",
     "text": [
      "{'created_at': '2009-03-18T13:46:38+00:00',\n",
      " 'description': '45th President of the United States of America🇺🇸',\n",
      " 'favourites_count': 6,\n",
      " 'followers_count': 68046989,\n",
      " 'friends_count': 48,\n",
      " 'id': 25073877,\n",
      " 'location': 'Washington, DC',\n",
      " 'name': 'Donald J. Trump',\n",
      " 'profile_image_url': 'http://pbs.twimg.com/profile_images/874276197357596672/kUuht00m_normal.jpg',\n",
      " 'screen_name': 'realDonaldTrump',\n",
      " 'statuses_count': 47588,\n",
      " 'verified': True}\n"
     ],
     "output_type": "stream"
    }
   ],
   "source": [
    "user = User(screen_name='realDonaldTrump', debug=False)\n",
    "user.get_profile()\n",
    "pprint(user.as_dict)"
   ]
  },
  {
   "cell_type": "markdown",
   "metadata": {
    "pycharm": {
     "name": "#%% md\n"
    }
   },
   "source": [
    "## Get list of followings, which are user objects..."
   ]
  },
  {
   "cell_type": "code",
   "execution_count": 3,
   "metadata": {
    "pycharm": {
     "is_executing": false,
     "name": "#%%\n"
    }
   },
   "outputs": [
    {
     "name": "stdout",
     "text": [
      "['realDonaldTrump',\n",
      " 'JudgeJeanine',\n",
      " 'Jim_Jordan',\n",
      " 'MariaBartiromo',\n",
      " 'VP',\n",
      " 'GOPChairwoman',\n",
      " 'parscale',\n",
      " 'PressSec',\n",
      " 'TuckerCarlson',\n",
      " 'JesseBWatters',\n",
      " 'WhiteHouse',\n",
      " 'Scavino45',\n",
      " 'KellyannePolls',\n",
      " 'Reince',\n",
      " 'RealRomaDowney',\n",
      " 'Trump',\n",
      " 'TrumpGolf',\n",
      " 'TiffanyATrump',\n",
      " 'IngrahamAngle',\n",
      " 'Mike_Pence',\n",
      " 'TeamTrump']\n"
     ],
     "output_type": "stream"
    }
   ],
   "source": [
    "user = User(screen_name='realDonaldTrump', debug=False)\n",
    "following = user.get_following()\n",
    "pprint([f.screen_name for f in following])"
   ]
  },
  {
   "cell_type": "markdown",
   "metadata": {
    "pycharm": {
     "is_executing": false,
     "name": "#%% md\n"
    }
   },
   "source": [
    "## Get list of followers"
   ]
  },
  {
   "cell_type": "code",
   "execution_count": 4,
   "metadata": {
    "pycharm": {
     "is_executing": false,
     "name": "#%%\n"
    }
   },
   "outputs": [
    {
     "name": "stdout",
     "text": [
      "['realDonaldTrump',\n",
      " 'EstanciaSuey',\n",
      " 'colnagrina',\n",
      " 'racheal60434955',\n",
      " 'Annacannaca',\n",
      " 'PSahifa',\n",
      " 'permana_dhee',\n",
      " 'Jeffrey17745931',\n",
      " 'lone_ye',\n",
      " 'Horlins20horla1',\n",
      " 'roos_antonia',\n",
      " 'buanitoo',\n",
      " 'omer69419467',\n",
      " 'x1287802425',\n",
      " 'Power79677431',\n",
      " 'aGkF3Dtrgl7WwK5',\n",
      " 'MyVillagePeopl2',\n",
      " 'BRoth_Thor',\n",
      " 'vanessa27803596',\n",
      " 'JasonMHughes15',\n",
      " 'PabloSa33851283']\n"
     ],
     "output_type": "stream"
    }
   ],
   "source": [
    "user = User(screen_name='realDonaldTrump')\n",
    "followers = user.get_followers()\n",
    "pprint([f.screen_name for f in followers])"
   ]
  },
  {
   "cell_type": "markdown",
   "metadata": {
    "pycharm": {
     "name": "#%% md\n"
    }
   },
   "source": [
    "## Get tweets"
   ]
  },
  {
   "cell_type": "code",
   "execution_count": 5,
   "metadata": {
    "pycharm": {
     "is_executing": false,
     "name": "#%%\n"
    }
   },
   "outputs": [
    {
     "name": "stdout",
     "text": [
      "{'debug': False,\n",
      " 'favorite': 168358,\n",
      " 'hashtags': [],\n",
      " 'id': 1210916803800707072,\n",
      " 'name': 'Donald J. Trump',\n",
      " 'permalink_path': 'https://twitter.com/realDonaldTrump/status/1210916803800707072',\n",
      " 'pinned': False,\n",
      " 'reply': 45152,\n",
      " 'retweet': 39657,\n",
      " 'screen_name': 'realDonaldTrump',\n",
      " 'text': 'California and New York must do something about their TREMENDOUS '\n",
      "         'Homeless problems. They are setting records! If their Governors '\n",
      "         'can’t handle the situation, which they should be able to do very '\n",
      "         'easily, they must call and “politely” ask for help. Would be so easy '\n",
      "         'with competence!',\n",
      " 'time': datetime.datetime(2019, 12, 28, 13, 33, 58, tzinfo=datetime.timezone.utc),\n",
      " 'urls': [],\n",
      " 'user_id': 25073877}\n"
     ],
     "output_type": "stream"
    }
   ],
   "source": [
    "user = User(screen_name='realDonaldTrump')\n",
    "tweets = user.get_tweets()\n",
    "pprint(vars(tweets[6]))"
   ]
  }
 ],
 "metadata": {
  "kernelspec": {
   "display_name": "Python 3",
   "language": "python",
   "name": "python3"
  },
  "language_info": {
   "codemirror_mode": {
    "name": "ipython",
    "version": 3
   },
   "file_extension": ".py",
   "mimetype": "text/x-python",
   "name": "python",
   "nbconvert_exporter": "python",
   "pygments_lexer": "ipython3",
   "version": "3.7.5rc1"
  },
  "pycharm": {
   "stem_cell": {
    "cell_type": "raw",
    "metadata": {
     "collapsed": false
    },
    "source": []
   }
  }
 },
 "nbformat": 4,
 "nbformat_minor": 1
}