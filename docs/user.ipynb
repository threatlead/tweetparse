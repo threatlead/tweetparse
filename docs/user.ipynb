{
 "cells": [
  {
   "cell_type": "markdown",
   "metadata": {
    "collapsed": true,
    "pycharm": {
     "name": "#%% md\n"
    }
   },
   "source": [
    "# Twitter User "
   ]
  },
  {
   "cell_type": "code",
   "execution_count": 12,
   "outputs": [],
   "source": [
    "from tweetparse.user import User\n",
    "from pprint import pprint"
   ],
   "metadata": {
    "collapsed": false,
    "pycharm": {
     "name": "#%%\n",
     "is_executing": false
    }
   }
  },
  {
   "cell_type": "markdown",
   "source": [
    "## Generate User object and then get its profile"
   ],
   "metadata": {
    "collapsed": false,
    "pycharm": {
     "name": "#%% md\n"
    }
   }
  },
  {
   "cell_type": "code",
   "execution_count": 13,
   "outputs": [
    {
     "name": "stdout",
     "text": [
      "{'created_at': datetime.datetime(2009, 3, 18, 13, 46, 38, tzinfo=datetime.timezone.utc),\n 'debug': False,\n 'description': '45th President of the United States of America🇺🇸',\n 'favourites_count': 6,\n 'followers_count': 66073896,\n 'friends_count': 47,\n 'id': 25073877,\n 'location': 'Washington, DC',\n 'max_position': None,\n 'min_position': None,\n 'name': 'Donald J. Trump',\n 'profile_image_url': 'http://pbs.twimg.com/profile_images/874276197357596672/kUuht00m_normal.jpg',\n 'raw': False,\n 'screen_name': 'realDonaldTrump',\n 'statuses_count': 45423,\n 'verified': True}\n"
     ],
     "output_type": "stream"
    }
   ],
   "source": [
    "user = User(screen_name='realDonaldTrump', debug=False)\n",
    "user.get_profile()\n",
    "pprint(vars(user))"
   ],
   "metadata": {
    "collapsed": false,
    "pycharm": {
     "name": "#%%\n",
     "is_executing": false
    }
   }
  },
  {
   "cell_type": "markdown",
   "source": [
    "## Get list of followings, which are user objects..."
   ],
   "metadata": {
    "collapsed": false,
    "pycharm": {
     "name": "#%% md\n"
    }
   }
  },
  {
   "cell_type": "code",
   "execution_count": 14,
   "outputs": [
    {
     "name": "stdout",
     "text": [
      "['realDonaldTrump',\n 'Jim_Jordan',\n 'MariaBartiromo',\n 'VP',\n 'GOPChairwoman',\n 'parscale',\n 'PressSec',\n 'TuckerCarlson',\n 'JesseBWatters',\n 'WhiteHouse',\n 'Scavino45',\n 'KellyannePolls',\n 'Reince',\n 'RealRomaDowney',\n 'Trump',\n 'TrumpGolf',\n 'TiffanyATrump',\n 'IngrahamAngle',\n 'mike_pence',\n 'TeamTrump',\n 'DRUDGE_REPORT']\n"
     ],
     "output_type": "stream"
    }
   ],
   "source": [
    "user = User(screen_name='realDonaldTrump', debug=False)\n",
    "following = user.get_following()\n",
    "pprint([f.screen_name for f in following])"
   ],
   "metadata": {
    "collapsed": false,
    "pycharm": {
     "name": "#%%\n",
     "is_executing": false
    }
   }
  },
  {
   "cell_type": "markdown",
   "source": [
    "## Get list of followers"
   ],
   "metadata": {
    "collapsed": false,
    "pycharm": {
     "name": "#%% md\n",
     "is_executing": false
    }
   }
  },
  {
   "cell_type": "code",
   "execution_count": 15,
   "outputs": [
    {
     "name": "stdout",
     "text": [
      "['realDonaldTrump',\n 'siciliano_dave',\n 'leem0h',\n 'AngelBa74047652',\n 'jenifre_brito',\n 'thereal17745271',\n 'Zubeyir_kaan',\n 'KimberlyMayor20',\n 'SamantaJarquin4',\n 'firefighter798',\n 'bonnefetebonne',\n 'rotaplaysgames',\n 'asher_berg',\n 'jean_chama',\n 'DavidNemnem',\n 'Ahmet45861539',\n 'Jasmine71095731',\n 'DavidLessig',\n 'Rebbeccaaa_91',\n 'ramon_mojarro',\n 'Wlajr2']\n"
     ],
     "output_type": "stream"
    }
   ],
   "source": [
    "user = User(screen_name='realDonaldTrump')\n",
    "followers = user.get_followers()\n",
    "pprint([f.screen_name for f in followers])"
   ],
   "metadata": {
    "collapsed": false,
    "pycharm": {
     "name": "#%%\n",
     "is_executing": false
    }
   }
  },
  {
   "cell_type": "markdown",
   "source": [
    "## Get tweets"
   ],
   "metadata": {
    "collapsed": false,
    "pycharm": {
     "name": "#%% md\n"
    }
   }
  },
  {
   "cell_type": "code",
   "execution_count": 16,
   "outputs": [
    {
     "name": "stdout",
     "text": [
      "{'debug': False,\n 'favorite': 23580,\n 'hashtags': [('screen_name',\n               '@realDonaldTrump',\n               'https://twitter.com/realDonaldTrump')],\n 'id': 1186367401044123648,\n 'name': 'The White House',\n 'permalink_path': 'https://twitter.com/WhiteHouse/status/1186367401044123648',\n 'pinned': False,\n 'reply': 3430,\n 'retweet': 7438,\n 'screen_name': 'WhiteHouse',\n 'text': 'Results that speak for themselves: Wage gains under President\\n'\n         '@\\n'\n         'realDonaldTrump have eclipsed growth under the past two '\n         'administrations, multiple times over.pic.twitter.com/OwZPiQnjGA',\n 'time': datetime.datetime(2019, 10, 21, 19, 43, 24),\n 'urls': ['https://t.co/OwZPiQnjGA'],\n 'user_id': 822215673812119553}\n"
     ],
     "output_type": "stream"
    }
   ],
   "source": [
    "user = User(screen_name='realDonaldTrump')\n",
    "tweets = user.get_tweets()\n",
    "pprint(vars(tweets[6]))"
   ],
   "metadata": {
    "collapsed": false,
    "pycharm": {
     "name": "#%%\n",
     "is_executing": false
    }
   }
  },
  {
   "cell_type": "code",
   "execution_count": 16,
   "outputs": [],
   "source": [
    "\n"
   ],
   "metadata": {
    "collapsed": false,
    "pycharm": {
     "name": "#%%\n",
     "is_executing": false
    }
   }
  }
 ],
 "metadata": {
  "kernelspec": {
   "name": "python3",
   "language": "python",
   "display_name": "Python 3"
  },
  "language_info": {
   "codemirror_mode": {
    "name": "ipython",
    "version": 2
   },
   "file_extension": ".py",
   "mimetype": "text/x-python",
   "name": "python",
   "nbconvert_exporter": "python",
   "pygments_lexer": "ipython2",
   "version": "2.7.6"
  },
  "pycharm": {
   "stem_cell": {
    "cell_type": "raw",
    "source": [],
    "metadata": {
     "collapsed": false
    }
   }
  }
 },
 "nbformat": 4,
 "nbformat_minor": 0
}